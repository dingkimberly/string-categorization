{
 "cells": [
  {
   "cell_type": "code",
   "execution_count": 1,
   "metadata": {},
   "outputs": [],
   "source": [
    "from Levenshtein import ratio"
   ]
  },
  {
   "cell_type": "code",
   "execution_count": 4,
   "metadata": {},
   "outputs": [],
   "source": [
    "\n",
    "# Takes a bunch of strings and sorts them into groups of similar strings according to Levenshtein distance\n",
    "def fuzzy_string_group(strings, tolerance):\n",
    "    \n",
    "    groups = {}\n",
    "    \n",
    "    for i in range(len(strings)):\n",
    "        curr = strings[i]\n",
    "        append_to = curr\n",
    "\n",
    "        for key, key_group in groups.items():\n",
    "            print(\"Curr: %s\" % curr)\n",
    "            print(\"Key: %s\" % key)\n",
    "            print(ratio(curr, key))\n",
    "            if ratio(curr, key) > tolerance:\n",
    "                append_to = key\n",
    "                break\n",
    "                \n",
    "        if groups.get(append_to) == None:\n",
    "            groups[append_to] = [curr]\n",
    "        else:\n",
    "            groups[append_to].append(curr)\n",
    "    \n",
    "    return groups"
   ]
  },
  {
   "cell_type": "code",
   "execution_count": 5,
   "metadata": {},
   "outputs": [
    {
     "name": "stdout",
     "output_type": "stream",
     "text": [
      "Curr: woman\n",
      "Key: women\n",
      "0.8\n",
      "Curr: womens\n",
      "Key: women\n",
      "0.9090909090909091\n",
      "Curr: womans\n",
      "Key: women\n",
      "0.7272727272727273\n",
      "Curr: man\n",
      "Key: women\n",
      "0.5\n",
      "Curr: homosapiens\n",
      "Key: women\n",
      "0.5\n",
      "Curr: homosapiens\n",
      "Key: man\n",
      "0.42857142857142855\n",
      "Curr: wymyn\n",
      "Key: women\n",
      "0.6\n",
      "Curr: wymyn\n",
      "Key: man\n",
      "0.5\n",
      "Curr: wymyn\n",
      "Key: homosapiens\n",
      "0.25\n",
      "Curr: womymn\n",
      "Key: women\n",
      "0.7272727272727273\n",
      "Curr: mermaid\n",
      "Key: women\n",
      "0.3333333333333333\n",
      "Curr: mermaid\n",
      "Key: man\n",
      "0.4\n",
      "Curr: mermaid\n",
      "Key: homosapiens\n",
      "0.3333333333333333\n",
      "Curr: mermaid\n",
      "Key: wymyn\n",
      "0.16666666666666666\n",
      "{'women': ['women', 'woman', 'womens', 'womans', 'womymn'], 'man': ['man'], 'homosapiens': ['homosapiens'], 'wymyn': ['wymyn'], 'mermaid': ['mermaid']}\n"
     ]
    }
   ],
   "source": [
    "words = ['women', 'woman', 'womens', 'womans' ,'man', 'homosapiens', 'wymyn', 'womymn', 'mermaid']\n",
    "\n",
    "groups = fuzzy_string_group(words, 0.6)\n",
    "print(groups)"
   ]
  },
  {
   "cell_type": "code",
   "execution_count": null,
   "metadata": {},
   "outputs": [],
   "source": []
  },
  {
   "cell_type": "code",
   "execution_count": null,
   "metadata": {},
   "outputs": [],
   "source": []
  }
 ],
 "metadata": {
  "kernelspec": {
   "display_name": "Python 3",
   "language": "python",
   "name": "python3"
  },
  "language_info": {
   "codemirror_mode": {
    "name": "ipython",
    "version": 3
   },
   "file_extension": ".py",
   "mimetype": "text/x-python",
   "name": "python",
   "nbconvert_exporter": "python",
   "pygments_lexer": "ipython3",
   "version": "3.6.6"
  }
 },
 "nbformat": 4,
 "nbformat_minor": 2
}
